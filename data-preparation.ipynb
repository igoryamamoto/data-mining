{
 "cells": [
  {
   "cell_type": "code",
   "execution_count": 1,
   "metadata": {},
   "outputs": [],
   "source": [
    "import pandas as pd\n",
    "import pandas_profiling as pp\n",
    "import numpy as np\n",
    "import os"
   ]
  },
  {
   "cell_type": "markdown",
   "metadata": {},
   "source": [
    "# Pré-processamento de dados"
   ]
  },
  {
   "cell_type": "code",
   "execution_count": 63,
   "metadata": {},
   "outputs": [
    {
     "name": "stderr",
     "output_type": "stream",
     "text": [
      "/home/igor/miniconda/envs/data-mining/lib/python3.6/site-packages/IPython/core/interactiveshell.py:2785: DtypeWarning: Columns (12,13) have mixed types. Specify dtype option on import or set low_memory=False.\n",
      "  interactivity=interactivity, compiler=compiler, result=result)\n"
     ]
    }
   ],
   "source": [
    "if not os.path.exists(\"./data\"):\n",
    "    os.makedirs(\"./data\")\n",
    "    \n",
    "true = ['t']; false = ['f']\n",
    "\n",
    "caso_intoxicacao = pd.read_table(\"./data/01_caso_intoxicacao\", sep=\"|\", encoding='UTF-8', index_col=\"identificador_caso\", true_values=true, false_values=false)\n",
    "atendimento = pd.read_table(\"./data/02_atendimento\", sep=\"|\", encoding='UTF-8', index_col=\"identificador_caso\", true_values=true, false_values=false)\n",
    "solicitante = pd.read_table(\"./data/03_solicitante\", sep=\"|\", encoding='UTF-8', index_col=\"identificador_caso\", true_values=true, false_values=false)\n",
    "paciente = pd.read_table(\"./data/04_paciente\", sep=\"|\", encoding='UTF-8', index_col=\"identificador_caso\", true_values=true, false_values=false)\n",
    "exposicao = pd.read_table(\"./data/05_exposicao\", sep=\"|\", encoding='UTF-8', index_col=\"identificador_caso\", true_values=true, false_values=false)\n",
    "agente_intoxicante = pd.read_table(\"./data/06_agente_intoxicante\", sep=\"|\", encoding='UTF-8', index_col=\"identificador_caso\", true_values=true, false_values=false)\n",
    "manifestacao = pd.read_table(\"./data/07_manifestacao\", sep=\"|\", encoding='UTF-8', index_col=\"identificador_caso\", true_values=true, false_values=false)\n",
    "tratamento = pd.read_table(\"./data/08_tratamento\", sep=\"|\", encoding='UTF-8', index_col=\"identificador_caso\", true_values=true, false_values=false)\n",
    "exame = pd.read_table(\"./data/09_exame\", sep=\"|\", encoding='UTF-8', index_col=\"identificador_caso\", true_values=true, false_values=false)\n",
    "historia = pd.read_table(\"./data/10_historia\", sep=\"|\", encoding='UTF-8', index_col=\"identificador_caso\", true_values=true, false_values=false)\n",
    "acompanhamento = pd.read_table(\"./data/11_acompanhamento\", sep=\"|\", encoding='UTF-8', index_col=\"identificador_caso\", true_values=true, false_values=false)\n",
    "encerramento = pd.read_table(\"./data/12_encerramento\", sep=\"|\", encoding='UTF-8', index_col=\"identificador_caso\", true_values=true, false_values=false)\n",
    "informacao = pd.read_table(\"./data/13_informacao\", sep=\"|\", encoding='UTF-8', index_col=\"identificador_caso\", true_values=true, false_values=false)\n",
    "paciente_animal = pd.read_table(\"./data/14_paciente_animal\", sep=\"|\", encoding='UTF-8', index_col=\"identificador_caso\", true_values=true, false_values=false)\n",
    "banco_agentes_intoxicantes = pd.read_table(\"./data/99_banco_agentes_intoxicantes\", sep=\"|\", encoding='UTF-8', true_values=true, false_values=false)\n"
   ]
  },
  {
   "cell_type": "markdown",
   "metadata": {},
   "source": [
    "## Análise e visualização"
   ]
  },
  {
   "cell_type": "code",
   "execution_count": 64,
   "metadata": {},
   "outputs": [],
   "source": [
    "if not os.path.exists(\"./tmp\"):\n",
    "    os.makedirs(\"./tmp\")\n",
    "    \n",
    "pp.ProfileReport(caso_intoxicacao).to_file(outputfile=\"./tmp/01_caso_intoxicacao.html\")\n",
    "pp.ProfileReport(atendimento).to_file(outputfile=\"./tmp/02_atendimento.html\")\n",
    "pp.ProfileReport(solicitante).to_file(outputfile=\"./tmp/03_solicitante.html\")\n",
    "pp.ProfileReport(paciente).to_file(outputfile=\"./tmp/04_paciente.html\")\n",
    "pp.ProfileReport(exposicao).to_file(outputfile=\"./tmp/05_exposicao.html\")\n",
    "pp.ProfileReport(agente_intoxicante).to_file(outputfile=\"./tmp/06_agente_intoxicante.html\")\n",
    "pp.ProfileReport(manifestacao).to_file(outputfile=\"./tmp/07_manifestacao.html\")\n",
    "pp.ProfileReport(tratamento).to_file(outputfile=\"./tmp/08_tratamento.html\")\n",
    "pp.ProfileReport(exame).to_file(outputfile=\"./tmp/09_exame.html\")\n",
    "pp.ProfileReport(historia).to_file(outputfile=\"./tmp/10_historia.html\")\n",
    "pp.ProfileReport(acompanhamento).to_file(outputfile=\"./tmp/11_acompanhamento.html\")\n",
    "pp.ProfileReport(encerramento).to_file(outputfile=\"./tmp/12_encerramento.html\")\n",
    "pp.ProfileReport(informacao).to_file(outputfile=\"./tmp/13_informacao.html\")\n",
    "pp.ProfileReport(paciente_animal).to_file(outputfile=\"./tmp/14_paciente_animal.html\")\n",
    "# pp.ProfileReport(banco_agentes_intoxicantes).to_file(outputfile=\"./tmp/99_banco_agentes_intoxicantes.html\")\n"
   ]
  }
 ],
 "metadata": {
  "kernelspec": {
   "display_name": "Python 3",
   "language": "python",
   "name": "python3"
  },
  "language_info": {
   "codemirror_mode": {
    "name": "ipython",
    "version": 3
   },
   "file_extension": ".py",
   "mimetype": "text/x-python",
   "name": "python",
   "nbconvert_exporter": "python",
   "pygments_lexer": "ipython3",
   "version": "3.6.5"
  }
 },
 "nbformat": 4,
 "nbformat_minor": 2
}
