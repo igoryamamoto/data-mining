{
 "cells": [
  {
   "cell_type": "code",
   "execution_count": 73,
   "metadata": {},
   "outputs": [],
   "source": [
    "import pandas as pd\n",
    "import pandas_profiling as pp\n",
    "import numpy as np\n",
    "import os\n",
    "import matplotlib.pyplot as plt\n",
    "import seaborn as sns\n",
    "sns.set(color_codes=True)\n",
    "%matplotlib inline"
   ]
  },
  {
   "cell_type": "markdown",
   "metadata": {},
   "source": [
    "# Pré-processamento de dados"
   ]
  },
  {
   "cell_type": "markdown",
   "metadata": {},
   "source": [
    "## Carregar tabelas"
   ]
  },
  {
   "cell_type": "code",
   "execution_count": 43,
   "metadata": {},
   "outputs": [
    {
     "name": "stderr",
     "output_type": "stream",
     "text": [
      "/home/igor/miniconda/envs/data-mining/lib/python3.6/site-packages/IPython/core/interactiveshell.py:2785: DtypeWarning: Columns (12,13) have mixed types. Specify dtype option on import or set low_memory=False.\n",
      "  interactivity=interactivity, compiler=compiler, result=result)\n"
     ]
    }
   ],
   "source": [
    "if not os.path.exists(\"./data\"):\n",
    "    os.makedirs(\"./data\")\n",
    "\n",
    "caso_intoxicacao = pd.read_table(\"./data/01_caso_intoxicacao\", sep=\"|\", encoding='UTF-8', index_col=\"identificador_caso\")\n",
    "atendimento = pd.read_table(\"./data/02_atendimento\", sep=\"|\", encoding='UTF-8', index_col=\"identificador_caso\")\n",
    "solicitante = pd.read_table(\"./data/03_solicitante\", sep=\"|\", encoding='UTF-8', index_col=\"identificador_caso\")\n",
    "paciente = pd.read_table(\"./data/04_paciente\", sep=\"|\", encoding='UTF-8', index_col=\"identificador_caso\")\n",
    "exposicao = pd.read_table(\"./data/05_exposicao\", sep=\"|\", encoding='UTF-8', index_col=\"identificador_caso\")\n",
    "agente_intoxicante = pd.read_table(\"./data/06_agente_intoxicante\", sep=\"|\", encoding='UTF-8', index_col=\"identificador_caso\")\n",
    "manifestacao = pd.read_table(\"./data/07_manifestacao\", sep=\"|\", encoding='UTF-8', index_col=\"identificador_caso\")\n",
    "tratamento = pd.read_table(\"./data/08_tratamento\", sep=\"|\", encoding='UTF-8', index_col=\"identificador_caso\")\n",
    "exame = pd.read_table(\"./data/09_exame\", sep=\"|\", encoding='UTF-8', index_col=\"identificador_caso\")\n",
    "historia = pd.read_table(\"./data/10_historia\", sep=\"|\", encoding='UTF-8', index_col=\"identificador_caso\")\n",
    "acompanhamento = pd.read_table(\"./data/11_acompanhamento\", sep=\"|\", encoding='UTF-8', index_col=\"identificador_caso\")\n",
    "encerramento = pd.read_table(\"./data/12_encerramento\", sep=\"|\", encoding='UTF-8', index_col=\"identificador_caso\")\n",
    "informacao = pd.read_table(\"./data/13_informacao\", sep=\"|\", encoding='UTF-8', index_col=\"identificador_caso\")\n",
    "paciente_animal = pd.read_table(\"./data/14_paciente_animal\", sep=\"|\", encoding='UTF-8', index_col=\"identificador_caso\")\n",
    "banco_agentes_intoxicantes = pd.read_table(\"./data/99_banco_agentes_intoxicantes\", sep=\"|\", encoding='UTF-8')\n"
   ]
  },
  {
   "cell_type": "markdown",
   "metadata": {},
   "source": [
    "## Gerar relatórios gerais sobre os atributos"
   ]
  },
  {
   "cell_type": "code",
   "execution_count": 44,
   "metadata": {},
   "outputs": [],
   "source": [
    "if not os.path.exists(\"./tmp\"):\n",
    "    os.makedirs(\"./tmp\")\n",
    "    \n",
    "pp.ProfileReport(caso_intoxicacao).to_file(outputfile=\"./tmp/01_caso_intoxicacao.html\")\n",
    "pp.ProfileReport(atendimento).to_file(outputfile=\"./tmp/02_atendimento.html\")\n",
    "pp.ProfileReport(solicitante).to_file(outputfile=\"./tmp/03_solicitante.html\")\n",
    "pp.ProfileReport(paciente).to_file(outputfile=\"./tmp/04_paciente.html\")\n",
    "pp.ProfileReport(exposicao).to_file(outputfile=\"./tmp/05_exposicao.html\")\n",
    "pp.ProfileReport(agente_intoxicante).to_file(outputfile=\"./tmp/06_agente_intoxicante.html\")\n",
    "pp.ProfileReport(manifestacao).to_file(outputfile=\"./tmp/07_manifestacao.html\")\n",
    "pp.ProfileReport(tratamento).to_file(outputfile=\"./tmp/08_tratamento.html\")\n",
    "pp.ProfileReport(exame).to_file(outputfile=\"./tmp/09_exame.html\")\n",
    "pp.ProfileReport(historia).to_file(outputfile=\"./tmp/10_historia.html\")\n",
    "pp.ProfileReport(acompanhamento).to_file(outputfile=\"./tmp/11_acompanhamento.html\")\n",
    "pp.ProfileReport(encerramento).to_file(outputfile=\"./tmp/12_encerramento.html\")\n",
    "pp.ProfileReport(informacao).to_file(outputfile=\"./tmp/13_informacao.html\")\n",
    "pp.ProfileReport(paciente_animal).to_file(outputfile=\"./tmp/14_paciente_animal.html\")\n",
    "# pp.ProfileReport(banco_agentes_intoxicantes).to_file(outputfile=\"./tmp/99_banco_agentes_intoxicantes.html\")\n"
   ]
  },
  {
   "cell_type": "markdown",
   "metadata": {},
   "source": [
    "## Seleção manual de atributos"
   ]
  },
  {
   "cell_type": "code",
   "execution_count": 158,
   "metadata": {},
   "outputs": [],
   "source": [
    "true = ['t']; false = ['f']\n",
    "\n",
    "caso_intoxicacao = pd.read_table(\"./data/01_caso_intoxicacao\", sep=\"|\",\n",
    "                                 encoding='UTF-8',\n",
    "                                 index_col=\"identificador_caso\",\n",
    "                                 true_values=true, false_values=false,\n",
    "                                 usecols=[\"identificador_caso\", \"classificacao_gravidade\", \"tipo_atendimento\"])\n",
    "\n",
    "atendimento = pd.read_table(\"./data/02_atendimento\", sep=\"|\",\n",
    "                            encoding='UTF-8',\n",
    "                            index_col=\"identificador_caso\",\n",
    "                            true_values=true, false_values=false,\n",
    "                            usecols=[\"identificador_caso\", \"local_atendimento\"])\n",
    "\n",
    "solicitante = pd.read_table(\"./data/03_solicitante\", sep=\"|\",\n",
    "                            encoding='UTF-8',\n",
    "                            index_col=\"identificador_caso\",\n",
    "                            true_values=true, false_values=false,\n",
    "                            usecols=[\"identificador_caso\", \"cidade_solicitacao\", \"estado_solicitacao\"])\n",
    "\n",
    "paciente = pd.read_table(\"./data/04_paciente\", sep=\"|\",\n",
    "                         encoding='UTF-8',\n",
    "                         index_col=\"identificador_caso\",\n",
    "                         true_values=true, false_values=false,\n",
    "                         usecols=[\"identificador_caso\", \"idade\", \"especificacao_idade\", \"sexo\", \"data_nascimento\"])      \n",
    "\n",
    "exposicao = pd.read_table(\"./data/05_exposicao\", sep=\"|\",\n",
    "                          encoding='UTF-8',\n",
    "                          index_col=\"identificador_caso\",\n",
    "                          true_values=true, false_values=false,\n",
    "                          usecols=[\"identificador_caso\", \"cidade_exposicao\", \"estado_exposicao\"])\n",
    "\n",
    "agente_intoxicante = pd.read_table(\"./data/06_agente_intoxicante\", sep=\"|\",\n",
    "                                   encoding='UTF-8',\n",
    "                                   index_col=\"identificador_caso\",\n",
    "                                   true_values=true, false_values=false,\n",
    "                                   usecols=[\"identificador_caso\", \"classe_agente\", \"subclasse_agente\"])          \n",
    "\n",
    "#manifestacao = pd.read_table(\"./data/07_manifestacao\", sep=\"|\",\n",
    "#                             encoding='UTF-8',\n",
    "#                             index_col=\"identificador_caso\",\n",
    "#                             true_values=true, false_values=false,\n",
    "#                             usecols=[\"identificador_caso\"])                    \n",
    "\n",
    "#tratamento = pd.read_table(\"./data/08_tratamento\", sep=\"|\",\n",
    "#                           encoding='UTF-8',\n",
    "#                           index_col=\"identificador_caso\",\n",
    "#                           true_values=true, false_values=false,\n",
    "#                           usecols=[\"identificador_caso\"])                    \n",
    "\n",
    "#exame = pd.read_table(\"./data/09_exame\", sep=\"|\",\n",
    "#                      encoding='UTF-8',\n",
    "#                      index_col=\"identificador_caso\",\n",
    "#                      true_values=true, false_values=false,\n",
    "#                      usecols=[\"identificador_caso\"])                    \n",
    "\n",
    "#historia = pd.read_table(\"./data/10_historia\", sep=\"|\",\n",
    "#                         encoding='UTF-8',\n",
    "#                         index_col=\"identificador_caso\",\n",
    "#                         true_values=true, false_values=false,\n",
    "#                         usecols=[\"identificador_caso\"])                    \n",
    "\n",
    "#acompanhamento = pd.read_table(\"./data/11_acompanhamento\", sep=\"|\",\n",
    "#                               encoding='UTF-8',\n",
    "#                               index_col=\"identificador_caso\",\n",
    "#                               true_values=true, false_values=false,\n",
    "#                               usecols=[\"identificador_caso\"])                    \n",
    "\n",
    "encerramento = pd.read_table(\"./data/12_encerramento\", sep=\"|\",\n",
    "                             encoding='UTF-8',\n",
    "                             index_col=\"identificador_caso\",\n",
    "                             true_values=true, false_values=false,\n",
    "                             usecols=[\"identificador_caso\", \"desfecho\"])                    \n",
    "\n",
    "#informacao = pd.read_table(\"./data/13_informacao\", sep=\"|\",\n",
    "#                           encoding='UTF-8',\n",
    "#                           index_col=\"identificador_caso\",\n",
    "#                           true_values=true, false_values=false,\n",
    "#                           usecols=[\"identificador_caso\"])                    \n",
    "\n",
    "#paciente_animal = pd.read_table(\"./data/14_paciente_animal\", sep=\"|\",\n",
    "#                                encoding='UTF-8',\n",
    "#                                index_col=\"identificador_caso\",\n",
    "#                                true_values=true, false_values=false,\n",
    "#                                usecols=[\"identificador_caso\"])                    \n",
    "\n",
    "#banco_agentes_intoxicantes = pd.read_table(\"./data/99_banco_agentes_intoxicantes\", sep=\"|\",\n",
    "#                                           encoding='UTF-8',\n",
    "#                                           true_values=true, false_values=false)                    \n"
   ]
  },
  {
   "cell_type": "markdown",
   "metadata": {},
   "source": [
    "## Junção das tabelas"
   ]
  },
  {
   "cell_type": "code",
   "execution_count": 166,
   "metadata": {},
   "outputs": [],
   "source": [
    "data = caso_intoxicacao.join(\n",
    "       atendimento).join(\n",
    "       solicitante).join(\n",
    "       paciente).join(\n",
    "       exposicao).join(\n",
    "       agente_intoxicante).join(\n",
    "       encerramento)\n",
    "\n",
    "pp.ProfileReport(data).to_file(outputfile=\"./tmp/data.html\")"
   ]
  },
  {
   "cell_type": "markdown",
   "metadata": {},
   "source": [
    "## Limpeza de dados"
   ]
  },
  {
   "cell_type": "markdown",
   "metadata": {},
   "source": [
    "### Remoção de missings e dados duplicados\n",
    "Retirando-se todos os registros que contém algum valor nulo em qualquer dos atributos, reduzimos a tabela de 75525 para 46563 registros."
   ]
  },
  {
   "cell_type": "code",
   "execution_count": 170,
   "metadata": {},
   "outputs": [],
   "source": [
    "data = data.dropna()\n",
    "data = data.drop_duplicates()\n",
    "data = data.drop(\"data_nascimento\", axis=1)\n",
    "pp.ProfileReport(data).to_file(outputfile=\"./tmp/data_no_missings.html\")"
   ]
  },
  {
   "cell_type": "markdown",
   "metadata": {},
   "source": [
    "### Remoção de casos fora de SC"
   ]
  },
  {
   "cell_type": "code",
   "execution_count": 168,
   "metadata": {},
   "outputs": [],
   "source": [
    "data = data[data.estado_solicitacao == 'SC']\n",
    "data = data[data.estado_exposicao == 'SC']\n",
    "data = data.drop(['estado_solicitacao', 'estado_exposicao'], axis=1)"
   ]
  },
  {
   "cell_type": "markdown",
   "metadata": {},
   "source": [
    "### Remoção de casos animais ou pedidos de informação"
   ]
  },
  {
   "cell_type": "code",
   "execution_count": 169,
   "metadata": {},
   "outputs": [],
   "source": [
    "data = data[data.tipo_atendimento == 'H']\n",
    "data = data.drop('tipo_atendimento', axis=1)"
   ]
  },
  {
   "cell_type": "code",
   "execution_count": null,
   "metadata": {},
   "outputs": [],
   "source": []
  }
 ],
 "metadata": {
  "kernelspec": {
   "display_name": "Python 3",
   "language": "python",
   "name": "python3"
  },
  "language_info": {
   "codemirror_mode": {
    "name": "ipython",
    "version": 3
   },
   "file_extension": ".py",
   "mimetype": "text/x-python",
   "name": "python",
   "nbconvert_exporter": "python",
   "pygments_lexer": "ipython3",
   "version": "3.6.5"
  }
 },
 "nbformat": 4,
 "nbformat_minor": 2
}
