{
 "cells": [
  {
   "cell_type": "code",
   "execution_count": 22,
   "metadata": {},
   "outputs": [],
   "source": [
    "import pandas as pd\n",
    "import pandas_profiling as pp\n",
    "import numpy as np\n",
    "import os\n",
    "import matplotlib.pyplot as plt\n",
    "import seaborn as sns\n",
    "import unicodedata\n",
    "from sklearn.model_selection import train_test_split\n",
    "from sklearn import naive_bayes\n",
    "from sklearn import tree\n",
    "from sklearn import metrics\n",
    "#import graphviz\n",
    "sns.set(color_codes=True)\n",
    "%matplotlib inline"
   ]
  },
  {
   "cell_type": "markdown",
   "metadata": {},
   "source": [
    "# Pré-processamento de dados"
   ]
  },
  {
   "cell_type": "markdown",
   "metadata": {},
   "source": [
    "## Carregar tabelas"
   ]
  },
  {
   "cell_type": "code",
   "execution_count": 3,
   "metadata": {},
   "outputs": [
    {
     "name": "stderr",
     "output_type": "stream",
     "text": [
      "C:\\Users\\Yamamoto\\Anaconda3\\lib\\site-packages\\IPython\\core\\interactiveshell.py:2785: DtypeWarning: Columns (12,13) have mixed types. Specify dtype option on import or set low_memory=False.\n",
      "  interactivity=interactivity, compiler=compiler, result=result)\n"
     ]
    }
   ],
   "source": [
    "if not os.path.exists(\"./data\"):\n",
    "    os.makedirs(\"./data\")\n",
    "\n",
    "caso_intoxicacao = pd.read_table(\"./data/01_caso_intoxicacao\", sep=\"|\", encoding='UTF-8', index_col=\"identificador_caso\")\n",
    "atendimento = pd.read_table(\"./data/02_atendimento\", sep=\"|\", encoding='UTF-8', index_col=\"identificador_caso\")\n",
    "solicitante = pd.read_table(\"./data/03_solicitante\", sep=\"|\", encoding='UTF-8', index_col=\"identificador_caso\")\n",
    "paciente = pd.read_table(\"./data/04_paciente\", sep=\"|\", encoding='UTF-8', index_col=\"identificador_caso\")\n",
    "exposicao = pd.read_table(\"./data/05_exposicao\", sep=\"|\", encoding='UTF-8', index_col=\"identificador_caso\")\n",
    "agente_intoxicante = pd.read_table(\"./data/06_agente_intoxicante\", sep=\"|\", encoding='UTF-8', index_col=\"identificador_caso\")\n",
    "manifestacao = pd.read_table(\"./data/07_manifestacao\", sep=\"|\", encoding='UTF-8', index_col=\"identificador_caso\")\n",
    "tratamento = pd.read_table(\"./data/08_tratamento\", sep=\"|\", encoding='UTF-8', index_col=\"identificador_caso\")\n",
    "exame = pd.read_table(\"./data/09_exame\", sep=\"|\", encoding='UTF-8', index_col=\"identificador_caso\")\n",
    "historia = pd.read_table(\"./data/10_historia\", sep=\"|\", encoding='UTF-8', index_col=\"identificador_caso\")\n",
    "acompanhamento = pd.read_table(\"./data/11_acompanhamento\", sep=\"|\", encoding='UTF-8', index_col=\"identificador_caso\")\n",
    "encerramento = pd.read_table(\"./data/12_encerramento\", sep=\"|\", encoding='UTF-8', index_col=\"identificador_caso\")\n",
    "informacao = pd.read_table(\"./data/13_informacao\", sep=\"|\", encoding='UTF-8', index_col=\"identificador_caso\")\n",
    "paciente_animal = pd.read_table(\"./data/14_paciente_animal\", sep=\"|\", encoding='UTF-8', index_col=\"identificador_caso\")\n",
    "banco_agentes_intoxicantes = pd.read_table(\"./data/99_banco_agentes_intoxicantes\", sep=\"|\", encoding='UTF-8')\n"
   ]
  },
  {
   "cell_type": "markdown",
   "metadata": {},
   "source": [
    "## Gerar relatórios gerais sobre os atributos"
   ]
  },
  {
   "cell_type": "code",
   "execution_count": 4,
   "metadata": {},
   "outputs": [],
   "source": [
    "if not os.path.exists(\"./tmp\"):\n",
    "    os.makedirs(\"./tmp\")\n",
    "    \n",
    "pp.ProfileReport(caso_intoxicacao).to_file(outputfile=\"./tmp/01_caso_intoxicacao.html\")\n",
    "pp.ProfileReport(atendimento).to_file(outputfile=\"./tmp/02_atendimento.html\")\n",
    "pp.ProfileReport(solicitante).to_file(outputfile=\"./tmp/03_solicitante.html\")\n",
    "pp.ProfileReport(paciente).to_file(outputfile=\"./tmp/04_paciente.html\")\n",
    "pp.ProfileReport(exposicao).to_file(outputfile=\"./tmp/05_exposicao.html\")\n",
    "pp.ProfileReport(agente_intoxicante).to_file(outputfile=\"./tmp/06_agente_intoxicante.html\")\n",
    "pp.ProfileReport(manifestacao).to_file(outputfile=\"./tmp/07_manifestacao.html\")\n",
    "pp.ProfileReport(tratamento).to_file(outputfile=\"./tmp/08_tratamento.html\")\n",
    "pp.ProfileReport(exame).to_file(outputfile=\"./tmp/09_exame.html\")\n",
    "pp.ProfileReport(historia).to_file(outputfile=\"./tmp/10_historia.html\")\n",
    "pp.ProfileReport(acompanhamento).to_file(outputfile=\"./tmp/11_acompanhamento.html\")\n",
    "pp.ProfileReport(encerramento).to_file(outputfile=\"./tmp/12_encerramento.html\")\n",
    "pp.ProfileReport(informacao).to_file(outputfile=\"./tmp/13_informacao.html\")\n",
    "pp.ProfileReport(paciente_animal).to_file(outputfile=\"./tmp/14_paciente_animal.html\")\n",
    "# pp.ProfileReport(banco_agentes_intoxicantes).to_file(outputfile=\"./tmp/99_banco_agentes_intoxicantes.html\")\n"
   ]
  },
  {
   "cell_type": "markdown",
   "metadata": {},
   "source": [
    "## Seleção manual de atributos"
   ]
  },
  {
   "cell_type": "code",
   "execution_count": 5,
   "metadata": {},
   "outputs": [],
   "source": [
    "true = ['t']; false = ['f']\n",
    "\n",
    "caso_intoxicacao = pd.read_table(\"./data/01_caso_intoxicacao\", sep=\"|\",\n",
    "                                 encoding='UTF-8',\n",
    "                                 index_col=\"identificador_caso\",\n",
    "                                 true_values=true, false_values=false,\n",
    "                                 usecols=[\"identificador_caso\", \"classificacao_gravidade\", \"tipo_atendimento\"])\n",
    "\n",
    "atendimento = pd.read_table(\"./data/02_atendimento\", sep=\"|\",\n",
    "                            encoding='UTF-8',\n",
    "                            index_col=\"identificador_caso\",\n",
    "                            true_values=true, false_values=false,\n",
    "                            usecols=[\"identificador_caso\", \"local_atendimento\"])\n",
    "\n",
    "solicitante = pd.read_table(\"./data/03_solicitante\", sep=\"|\",\n",
    "                            encoding='UTF-8',\n",
    "                            index_col=\"identificador_caso\",\n",
    "                            true_values=true, false_values=false,\n",
    "                            usecols=[\"identificador_caso\", \"cidade_solicitacao\", \"estado_solicitacao\"])\n",
    "\n",
    "paciente = pd.read_table(\"./data/04_paciente\", sep=\"|\",\n",
    "                         encoding='UTF-8',\n",
    "                         index_col=\"identificador_caso\",\n",
    "                         true_values=true, false_values=false,\n",
    "                         usecols=[\"identificador_caso\", \"idade\", \"especificacao_idade\", \"sexo\", \"data_nascimento\"])      \n",
    "\n",
    "exposicao = pd.read_table(\"./data/05_exposicao\", sep=\"|\",\n",
    "                          encoding='UTF-8',\n",
    "                          index_col=\"identificador_caso\",\n",
    "                          true_values=true, false_values=false,\n",
    "                          usecols=[\"identificador_caso\", \"cidade_exposicao\", \"estado_exposicao\"])\n",
    "\n",
    "agente_intoxicante = pd.read_table(\"./data/06_agente_intoxicante\", sep=\"|\",\n",
    "                                   encoding='UTF-8',\n",
    "                                   index_col=\"identificador_caso\",\n",
    "                                   true_values=true, false_values=false,\n",
    "                                   usecols=[\"identificador_caso\", \"grupo_agente\"])          \n",
    "\n",
    "#manifestacao = pd.read_table(\"./data/07_manifestacao\", sep=\"|\",\n",
    "#                             encoding='UTF-8',\n",
    "#                             index_col=\"identificador_caso\",\n",
    "#                             true_values=true, false_values=false,\n",
    "#                             usecols=[\"identificador_caso\"])                    \n",
    "\n",
    "#tratamento = pd.read_table(\"./data/08_tratamento\", sep=\"|\",\n",
    "#                           encoding='UTF-8',\n",
    "#                           index_col=\"identificador_caso\",\n",
    "#                           true_values=true, false_values=false,\n",
    "#                           usecols=[\"identificador_caso\"])                    \n",
    "\n",
    "#exame = pd.read_table(\"./data/09_exame\", sep=\"|\",\n",
    "#                      encoding='UTF-8',\n",
    "#                      index_col=\"identificador_caso\",\n",
    "#                      true_values=true, false_values=false,\n",
    "#                      usecols=[\"identificador_caso\"])                    \n",
    "\n",
    "#historia = pd.read_table(\"./data/10_historia\", sep=\"|\",\n",
    "#                         encoding='UTF-8',\n",
    "#                         index_col=\"identificador_caso\",\n",
    "#                         true_values=true, false_values=false,\n",
    "#                         usecols=[\"identificador_caso\"])                    \n",
    "\n",
    "#acompanhamento = pd.read_table(\"./data/11_acompanhamento\", sep=\"|\",\n",
    "#                               encoding='UTF-8',\n",
    "#                               index_col=\"identificador_caso\",\n",
    "#                               true_values=true, false_values=false,\n",
    "#                               usecols=[\"identificador_caso\"])                    \n",
    "\n",
    "encerramento = pd.read_table(\"./data/12_encerramento\", sep=\"|\",\n",
    "                             encoding='UTF-8',\n",
    "                             index_col=\"identificador_caso\",\n",
    "                             true_values=true, false_values=false,\n",
    "                             usecols=[\"identificador_caso\", \"desfecho\"])                    \n",
    "\n",
    "#informacao = pd.read_table(\"./data/13_informacao\", sep=\"|\",\n",
    "#                           encoding='UTF-8',\n",
    "#                           index_col=\"identificador_caso\",\n",
    "#                           true_values=true, false_values=false,\n",
    "#                           usecols=[\"identificador_caso\"])                    \n",
    "\n",
    "#paciente_animal = pd.read_table(\"./data/14_paciente_animal\", sep=\"|\",\n",
    "#                                encoding='UTF-8',\n",
    "#                                index_col=\"identificador_caso\",\n",
    "#                                true_values=true, false_values=false,\n",
    "#                                usecols=[\"identificador_caso\"])                    \n",
    "\n",
    "#banco_agentes_intoxicantes = pd.read_table(\"./data/99_banco_agentes_intoxicantes\", sep=\"|\",\n",
    "#                                           encoding='UTF-8',\n",
    "#                                           true_values=true, false_values=false)                    \n"
   ]
  },
  {
   "cell_type": "markdown",
   "metadata": {},
   "source": [
    "## Junção das tabelas"
   ]
  },
  {
   "cell_type": "code",
   "execution_count": 6,
   "metadata": {},
   "outputs": [
    {
     "data": {
      "text/plain": [
       "tipo_atendimento           75525\n",
       "classificacao_gravidade    70654\n",
       "local_atendimento          74434\n",
       "cidade_solicitacao         74051\n",
       "estado_solicitacao         74051\n",
       "idade                      70257\n",
       "especificacao_idade        71007\n",
       "sexo                       71024\n",
       "data_nascimento            58504\n",
       "cidade_exposicao           69553\n",
       "estado_exposicao           71662\n",
       "grupo_agente               73903\n",
       "desfecho                   71399\n",
       "dtype: int64"
      ]
     },
     "execution_count": 6,
     "metadata": {},
     "output_type": "execute_result"
    }
   ],
   "source": [
    "data = (\n",
    "    caso_intoxicacao\n",
    "    .join(atendimento)\n",
    "    .join(solicitante)\n",
    "    .join(paciente)\n",
    "    .join(exposicao)\n",
    "    .join(agente_intoxicante)\n",
    "    .join(encerramento)\n",
    ")\n",
    "\n",
    "# pp.ProfileReport(data).to_file(outputfile=\"./tmp/data.html\")\n",
    "data.count()"
   ]
  },
  {
   "cell_type": "markdown",
   "metadata": {},
   "source": [
    "## Limpeza de dados"
   ]
  },
  {
   "cell_type": "markdown",
   "metadata": {},
   "source": [
    "### Remoção de missings e dados duplicados\n",
    "Retirando-se todos os registros que contém algum valor nulo em qualquer dos atributos, reduzimos a tabela de 75525 para 46563 registros."
   ]
  },
  {
   "cell_type": "code",
   "execution_count": 7,
   "metadata": {},
   "outputs": [],
   "source": [
    "data_tmp1 = (\n",
    "    data\n",
    "    .drop_duplicates()\n",
    "    .drop(\"data_nascimento\", axis=1)\n",
    "    .dropna()\n",
    ")\n",
    "\n",
    "# pp.ProfileReport(data_tmp1).to_file(outputfile=\"./tmp/data_no_missings.html\")"
   ]
  },
  {
   "cell_type": "markdown",
   "metadata": {},
   "source": [
    "### Remoção de casos fora de SC"
   ]
  },
  {
   "cell_type": "code",
   "execution_count": 8,
   "metadata": {},
   "outputs": [],
   "source": [
    "data_tmp2 = data_tmp1[\n",
    "                (data_tmp1.estado_solicitacao == 'SC') &\n",
    "                (data_tmp1.estado_exposicao == 'SC')\n",
    "            ]"
   ]
  },
  {
   "cell_type": "markdown",
   "metadata": {},
   "source": [
    "### Remoção de sexo Ignorado ou Outro"
   ]
  },
  {
   "cell_type": "code",
   "execution_count": 9,
   "metadata": {},
   "outputs": [],
   "source": [
    "data_tmp3 = data_tmp2[\n",
    "                (data_tmp2.sexo == 'Feminino') |\n",
    "                (data_tmp2.sexo == 'Masculino')\n",
    "            ]"
   ]
  },
  {
   "cell_type": "markdown",
   "metadata": {},
   "source": [
    "### Remoção de casos animais ou pedidos de informação"
   ]
  },
  {
   "cell_type": "code",
   "execution_count": 10,
   "metadata": {},
   "outputs": [
    {
     "data": {
      "text/plain": [
       "classificacao_gravidade    46803\n",
       "local_atendimento          46803\n",
       "cidade_solicitacao         46803\n",
       "idade                      46803\n",
       "especificacao_idade        46803\n",
       "sexo                       46803\n",
       "cidade_exposicao           46803\n",
       "grupo_agente               46803\n",
       "desfecho                   46803\n",
       "dtype: int64"
      ]
     },
     "execution_count": 10,
     "metadata": {},
     "output_type": "execute_result"
    }
   ],
   "source": [
    "clean_data = (\n",
    "    data_tmp3\n",
    "    [data_tmp3.tipo_atendimento == 'H']\n",
    "    .drop('tipo_atendimento', axis=1)\n",
    "    .drop(['estado_solicitacao', 'estado_exposicao'], axis=1)\n",
    ")\n",
    "\n",
    "## pp.ProfileReport(clean_data).to_file(outputfile=\"./tmp/clean_data.html\")\n",
    "clean_data.count()"
   ]
  },
  {
   "cell_type": "markdown",
   "metadata": {},
   "source": [
    "## Transformação de  Dados"
   ]
  },
  {
   "cell_type": "markdown",
   "metadata": {},
   "source": [
    "### Atributo idade"
   ]
  },
  {
   "cell_type": "code",
   "execution_count": 11,
   "metadata": {},
   "outputs": [
    {
     "data": {
      "text/plain": [
       "Anos     45911\n",
       "Meses      848\n",
       "Dias        44\n",
       "Name: especificacao_idade, dtype: int64"
      ]
     },
     "execution_count": 11,
     "metadata": {},
     "output_type": "execute_result"
    }
   ],
   "source": [
    "clean_data['especificacao_idade'].value_counts()"
   ]
  },
  {
   "cell_type": "markdown",
   "metadata": {},
   "source": [
    "Transformação Meses e Dias para Anos"
   ]
  },
  {
   "cell_type": "code",
   "execution_count": 12,
   "metadata": {},
   "outputs": [],
   "source": [
    "clean_data.loc[clean_data.especificacao_idade == 'Meses', 'idade'] /= 12\n",
    "clean_data.loc[clean_data.especificacao_idade == 'Dias', 'idade'] /= 360"
   ]
  },
  {
   "cell_type": "markdown",
   "metadata": {},
   "source": [
    "Discretização em faixas etárias\n",
    "\n",
    "Bebê -> 0 a 3\n",
    "\n",
    "Criança -> 3 a 15\n",
    "\n",
    "Jovem -> 15 a 30\n",
    "\n",
    "Adulto -> 30 a 60\n",
    "\n",
    "Idoso -> 60 em diante"
   ]
  },
  {
   "cell_type": "code",
   "execution_count": 13,
   "metadata": {},
   "outputs": [],
   "source": [
    "clean_data.loc[clean_data.idade < 3, 'classificacao_idade'] = 'Bebe'\n",
    "clean_data.loc[(clean_data.idade >= 3) & (clean_data.idade < 15), 'classificacao_idade'] = 'Crianca'\n",
    "clean_data.loc[(clean_data.idade >= 15) & (clean_data.idade < 30), 'classificacao_idade'] = 'Jovem'\n",
    "clean_data.loc[(clean_data.idade >= 30) & (clean_data.idade < 60), 'classificacao_idade'] = 'Adulto'\n",
    "clean_data.loc[clean_data.idade >= 60, 'classificacao_idade'] = 'Idoso'"
   ]
  },
  {
   "cell_type": "code",
   "execution_count": 14,
   "metadata": {},
   "outputs": [
    {
     "data": {
      "text/plain": [
       "Adulto     18397\n",
       "Jovem      12092\n",
       "Crianca     6836\n",
       "Bebe        5701\n",
       "Idoso       3777\n",
       "Name: classificacao_idade, dtype: int64"
      ]
     },
     "execution_count": 14,
     "metadata": {},
     "output_type": "execute_result"
    }
   ],
   "source": [
    "clean_data.classificacao_idade.value_counts()"
   ]
  },
  {
   "cell_type": "markdown",
   "metadata": {},
   "source": [
    "### Cidades para mesoregiões"
   ]
  },
  {
   "cell_type": "code",
   "execution_count": 15,
   "metadata": {},
   "outputs": [
    {
     "data": {
      "text/plain": [
       "GRANDE FLORIANOPOLIS    12020\n",
       "VALE DO ITAJAI           9885\n",
       "OESTE CATARINENSE        9190\n",
       "NORTE CATARINENSE        7072\n",
       "SUL CATARINENSE          6253\n",
       "SERRANA                  2383\n",
       "Name: mesoregiao, dtype: int64"
      ]
     },
     "execution_count": 15,
     "metadata": {},
     "output_type": "execute_result"
    }
   ],
   "source": [
    "def normalize_str(text):\n",
    "    text = (\n",
    "        unicodedata\n",
    "        .normalize('NFKD', text)\n",
    "        .encode('ascii', 'ignore')\n",
    "        .decode(\"utf-8\")\n",
    "    )\n",
    "    return str(text).upper()\n",
    "\n",
    "municipios = (\n",
    "    pd.read_csv(\"./municipiosSC.csv\")\n",
    "    .assign(municipio = lambda df: df['municipio'].apply(normalize_str))\n",
    "    .assign(mesoregiao = lambda df: df['mesoregiao'].apply(normalize_str))\n",
    ")\n",
    "municipios_dict = {}\n",
    "for index, row in municipios.iterrows():\n",
    "    municipios_dict[row.municipio] = row.mesoregiao\n",
    "    \n",
    "    \n",
    "clean_data = (\n",
    "    clean_data\n",
    "    .assign(mesoregiao=lambda df: df['cidade_solicitacao'].apply(normalize_str).replace(municipios_dict))\n",
    ")\n",
    "clean_data.mesoregiao.value_counts()"
   ]
  },
  {
   "cell_type": "markdown",
   "metadata": {},
   "source": [
    "### Categórico para numérico\n"
   ]
  },
  {
   "cell_type": "code",
   "execution_count": 16,
   "metadata": {},
   "outputs": [],
   "source": [
    "cat_to_num = {\"classificacao_idade\": {\"Bebe\": 0, \"Crianca\": 1, \"Jovem\": 2, \"Adulto\": 3, \"Idoso\": 4},\n",
    "              \"classificacao_gravidade\": {\"Leve\": 0, \"Moderada\": 1, \"Grave\": 2},\n",
    "              \"grupo_agente\": {\"MEDICAMENTOS\": 0, \"ANIMAIS PEÇONHENTOS/VENENOSOS\" : 1, \"OUTROS\" : 2, \"AGROTÓXICOS\" : 3,\n",
    "                               \"DROGAS DE ABUSO\" : 4, \"PRODUTOS QUÍMICOS RESIDENCIAIS OU INDUSTRIAIS\" : 5,\n",
    "                               \"PRODUTOS DOMISSANITÁRIOS\" : 6, \"ANIMAIS NÃO PEÇONHENTOS/NÃO VENENOSOS\" : 7,\n",
    "                               \"RATICIDAS\" : 8, \"PLANTAS E FUNGOS\" : 9, \"PRODUTOS DE USO VETERINÁRIO\" : 10,\n",
    "                               \"INSETICIDAS DE USO DOMÉSTICO\" : 11, \"COSMÉTICOS E HIGIENE PESSOAL\" : 12, \n",
    "                               \"ALIMENTOS\" : 13, \"METAIS\": 14},\n",
    "             \"sexo\": {\"Feminino\": 0, \"Masculino\": 1},\n",
    "             \"local_atendimento\": {'Hospital': 0, 'Unidade de Pronto Atendimento (UPA)': 1,\n",
    "                                   'Unidade Básica de Saúde (UBS)': 2, 'Residência': 3,\n",
    "                                    'Consultório/Clínica Particular': 4, 'CIAT/Ambulatório de Toxicologia': 5,\n",
    "                                    'Outro': 6, 'Local de Trabalho': 7, 'SAMU': 8, 'Público': 9,\n",
    "                                    'Unidade Móvel de Nível Pré-hospitalar Particular': 10, 'Farmácia': 11,\n",
    "                                    'Escola/Creche': 12, 'Vigilância Epidemiológica': 13, 'CIAT (Outro)': 14,\n",
    "                                    'E-mail': 15, 'Vigilância Sanitária': 16, 'Clínica Veterinária': 17, 'Busca Ativa': 18},\n",
    "             \"mesoregiao\": {'GRANDE FLORIANOPOLIS': 0, 'VALE DO ITAJAI': 1, 'OESTE CATARINENSE': 2,\n",
    "                            'NORTE CATARINENSE': 3, 'SUL CATARINENSE': 4, 'SERRANA': 5},\n",
    "              \"desfecho\": {'Manifestações Clínicas Leves': 0, 'Diagnóstico Diferencial (confirmada a não exposição)': 1,\n",
    "                           'Sem Manifestações Clínicas (Assintomático)': 2, 'Manifestações Clínicas Moderadas': 3,\n",
    "                           'Exposição não tóxica, sem acompanhamento': 4, 'Manifestações Clínicas Graves': 5,\n",
    "                           'Exposição levemente tóxica, sem acompanhamento': 6, 'Ignorado': 7, 'Exposição potencialmente tóxica, sem acompanhamento': 8,\n",
    "                           'Óbito': 9, 'Óbito por outra causa': 10, 'Manifestações Clínicas Graves com Sequelas': 11}\n",
    "             }\n",
    "\n",
    "final_data = (\n",
    "    clean_data\n",
    "    .replace(cat_to_num)\n",
    "    .drop(['idade', 'especificacao_idade'], axis=1)\n",
    "    .drop(['cidade_solicitacao', 'cidade_exposicao'], axis=1)\n",
    ")\n",
    "\n",
    "# pp.ProfileReport(final_data, check_correlation=False).to_file(outputfile=\"./tmp/final_prepared.html\")"
   ]
  },
  {
   "cell_type": "code",
   "execution_count": 17,
   "metadata": {},
   "outputs": [
    {
     "data": {
      "text/html": [
       "<div>\n",
       "<style scoped>\n",
       "    .dataframe tbody tr th:only-of-type {\n",
       "        vertical-align: middle;\n",
       "    }\n",
       "\n",
       "    .dataframe tbody tr th {\n",
       "        vertical-align: top;\n",
       "    }\n",
       "\n",
       "    .dataframe thead th {\n",
       "        text-align: right;\n",
       "    }\n",
       "</style>\n",
       "<table border=\"1\" class=\"dataframe\">\n",
       "  <thead>\n",
       "    <tr style=\"text-align: right;\">\n",
       "      <th></th>\n",
       "      <th>classificacao_gravidade</th>\n",
       "      <th>local_atendimento</th>\n",
       "      <th>sexo</th>\n",
       "      <th>grupo_agente</th>\n",
       "      <th>desfecho</th>\n",
       "      <th>classificacao_idade</th>\n",
       "      <th>mesoregiao</th>\n",
       "    </tr>\n",
       "    <tr>\n",
       "      <th>identificador_caso</th>\n",
       "      <th></th>\n",
       "      <th></th>\n",
       "      <th></th>\n",
       "      <th></th>\n",
       "      <th></th>\n",
       "      <th></th>\n",
       "      <th></th>\n",
       "    </tr>\n",
       "  </thead>\n",
       "  <tbody>\n",
       "    <tr>\n",
       "      <th>1</th>\n",
       "      <td>2</td>\n",
       "      <td>0</td>\n",
       "      <td>1</td>\n",
       "      <td>1</td>\n",
       "      <td>5</td>\n",
       "      <td>4</td>\n",
       "      <td>0</td>\n",
       "    </tr>\n",
       "    <tr>\n",
       "      <th>2</th>\n",
       "      <td>0</td>\n",
       "      <td>3</td>\n",
       "      <td>0</td>\n",
       "      <td>0</td>\n",
       "      <td>6</td>\n",
       "      <td>2</td>\n",
       "      <td>0</td>\n",
       "    </tr>\n",
       "    <tr>\n",
       "      <th>3</th>\n",
       "      <td>1</td>\n",
       "      <td>0</td>\n",
       "      <td>0</td>\n",
       "      <td>0</td>\n",
       "      <td>0</td>\n",
       "      <td>1</td>\n",
       "      <td>4</td>\n",
       "    </tr>\n",
       "    <tr>\n",
       "      <th>4</th>\n",
       "      <td>0</td>\n",
       "      <td>1</td>\n",
       "      <td>0</td>\n",
       "      <td>0</td>\n",
       "      <td>4</td>\n",
       "      <td>2</td>\n",
       "      <td>3</td>\n",
       "    </tr>\n",
       "    <tr>\n",
       "      <th>5</th>\n",
       "      <td>1</td>\n",
       "      <td>2</td>\n",
       "      <td>0</td>\n",
       "      <td>9</td>\n",
       "      <td>3</td>\n",
       "      <td>1</td>\n",
       "      <td>4</td>\n",
       "    </tr>\n",
       "  </tbody>\n",
       "</table>\n",
       "</div>"
      ],
      "text/plain": [
       "                    classificacao_gravidade  local_atendimento  sexo  \\\n",
       "identificador_caso                                                     \n",
       "1                                         2                  0     1   \n",
       "2                                         0                  3     0   \n",
       "3                                         1                  0     0   \n",
       "4                                         0                  1     0   \n",
       "5                                         1                  2     0   \n",
       "\n",
       "                    grupo_agente  desfecho  classificacao_idade  mesoregiao  \n",
       "identificador_caso                                                           \n",
       "1                              1         5                    4           0  \n",
       "2                              0         6                    2           0  \n",
       "3                              0         0                    1           4  \n",
       "4                              0         4                    2           3  \n",
       "5                              9         3                    1           4  "
      ]
     },
     "execution_count": 17,
     "metadata": {},
     "output_type": "execute_result"
    }
   ],
   "source": [
    "final_data.head()"
   ]
  },
  {
   "cell_type": "markdown",
   "metadata": {},
   "source": [
    "## Criação do Modelo de Classificação"
   ]
  },
  {
   "cell_type": "code",
   "execution_count": 18,
   "metadata": {},
   "outputs": [],
   "source": [
    "features = ['classificacao_gravidade', 'local_atendimento', 'sexo', 'grupo_agente',\n",
    "            'classificacao_idade', 'mesoregiao']\n",
    "target = 'desfecho'"
   ]
  },
  {
   "cell_type": "markdown",
   "metadata": {},
   "source": [
    "### Separação Treino/Teste"
   ]
  },
  {
   "cell_type": "code",
   "execution_count": 19,
   "metadata": {},
   "outputs": [],
   "source": [
    "x_train, x_test, y_train, y_test = train_test_split(\n",
    "    final_data[features], final_data[target], test_size=0.3, random_state=1)"
   ]
  },
  {
   "cell_type": "markdown",
   "metadata": {},
   "source": [
    "### Naive Bayes"
   ]
  },
  {
   "cell_type": "code",
   "execution_count": 20,
   "metadata": {},
   "outputs": [
    {
     "data": {
      "text/plain": [
       "0.5815112883697743"
      ]
     },
     "execution_count": 20,
     "metadata": {},
     "output_type": "execute_result"
    }
   ],
   "source": [
    "bayes_model = naive_bayes.GaussianNB()\n",
    "bayes_model.fit(x_train, y_train)\n",
    "y_pred = bayes_model.predict(x_test)\n",
    "metrics.accuracy_score(y_test, y_pred)"
   ]
  },
  {
   "cell_type": "markdown",
   "metadata": {},
   "source": [
    "### Decision Tree"
   ]
  },
  {
   "cell_type": "code",
   "execution_count": 21,
   "metadata": {},
   "outputs": [
    {
     "data": {
      "text/plain": [
       "0.7052204258955915"
      ]
     },
     "execution_count": 21,
     "metadata": {},
     "output_type": "execute_result"
    }
   ],
   "source": [
    "tree_model = tree.DecisionTreeClassifier()\n",
    "tree_model.fit(x_train, y_train)\n",
    "y_pred = tree_model.predict(x_test)\n",
    "metrics.accuracy_score(y_test, y_pred)"
   ]
  },
  {
   "cell_type": "code",
   "execution_count": null,
   "metadata": {},
   "outputs": [],
   "source": []
  }
 ],
 "metadata": {
  "kernelspec": {
   "display_name": "Python 3",
   "language": "python",
   "name": "python3"
  },
  "language_info": {
   "codemirror_mode": {
    "name": "ipython",
    "version": 3
   },
   "file_extension": ".py",
   "mimetype": "text/x-python",
   "name": "python",
   "nbconvert_exporter": "python",
   "pygments_lexer": "ipython3",
   "version": "3.6.5"
  }
 },
 "nbformat": 4,
 "nbformat_minor": 2
}
